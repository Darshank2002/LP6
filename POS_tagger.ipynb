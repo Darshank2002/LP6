{
 "cells": [
  {
   "cell_type": "code",
   "execution_count": 1,
   "id": "2e25c93b",
   "metadata": {},
   "outputs": [],
   "source": [
    "import nltk \n",
    "from nltk.tag import tnt \n",
    "from nltk.corpus import indian"
   ]
  },
  {
   "cell_type": "code",
   "execution_count": 2,
   "id": "198aebeb",
   "metadata": {},
   "outputs": [
    {
     "name": "stderr",
     "output_type": "stream",
     "text": [
      "[nltk_data] Downloading package indian to\n",
      "[nltk_data]     C:\\Users\\DARSHAN\\AppData\\Roaming\\nltk_data...\n",
      "[nltk_data]   Unzipping corpora\\indian.zip.\n"
     ]
    },
    {
     "data": {
      "text/plain": [
       "True"
      ]
     },
     "execution_count": 2,
     "metadata": {},
     "output_type": "execute_result"
    }
   ],
   "source": [
    "nltk.download('indian')"
   ]
  },
  {
   "cell_type": "code",
   "execution_count": 3,
   "id": "3be24de5",
   "metadata": {},
   "outputs": [],
   "source": [
    "train_data = indian.tagged_sents('hindi.pos')"
   ]
  },
  {
   "cell_type": "code",
   "execution_count": 4,
   "id": "e65ab959",
   "metadata": {},
   "outputs": [],
   "source": [
    "tnt_pos_tagger = tnt.TnT()\n",
    "tnt_pos_tagger.train(train_data)"
   ]
  },
  {
   "cell_type": "code",
   "execution_count": 5,
   "id": "b8b7d202",
   "metadata": {},
   "outputs": [
    {
     "name": "stderr",
     "output_type": "stream",
     "text": [
      "[nltk_data] Downloading package punkt to\n",
      "[nltk_data]     C:\\Users\\DARSHAN\\AppData\\Roaming\\nltk_data...\n",
      "[nltk_data]   Unzipping tokenizers\\punkt.zip.\n"
     ]
    },
    {
     "data": {
      "text/plain": [
       "True"
      ]
     },
     "execution_count": 5,
     "metadata": {},
     "output_type": "execute_result"
    }
   ],
   "source": [
    "nltk.download('punkt')"
   ]
  },
  {
   "cell_type": "code",
   "execution_count": 18,
   "id": "77f9bdfd",
   "metadata": {},
   "outputs": [],
   "source": [
    "text = \"अनुच्छेद में हर वाक्य मूल विषय से जुड़ा रहता है। अनावश्यक विस्तार के लिए उसमें कोई स्थान नहीं होता। अनुच्छेद में घटना अथवा विषय से सम्बद्ध वर्णन संतुलित तथा अपने आप में पूर्ण होना चाहिए। अनुच्छेद की भाषा-शैली सजीव एवं प्रभावशाली होनी चाहिए। शब्दों के सही चयन के साथ लोकोक्तियों एवं मुहावरों के समुचित प्रयोग से ही भाषा-शैली में उपर्युक्त गुण आ सकते हैं।\""
   ]
  },
  {
   "cell_type": "code",
   "execution_count": 19,
   "id": "07483092",
   "metadata": {},
   "outputs": [
    {
     "name": "stdout",
     "output_type": "stream",
     "text": [
      "['अनुच्छेद', 'में', 'हर', 'वाक्य', 'मूल', 'विषय', 'से', 'जुड़ा', 'रहता', 'है।', 'अनावश्यक', 'विस्तार', 'के', 'लिए', 'उसमें', 'कोई', 'स्थान', 'नहीं', 'होता।', 'अनुच्छेद', 'में', 'घटना', 'अथवा', 'विषय', 'से', 'सम्बद्ध', 'वर्णन', 'संतुलित', 'तथा', 'अपने', 'आप', 'में', 'पूर्ण', 'होना', 'चाहिए।', 'अनुच्छेद', 'की', 'भाषा-शैली', 'सजीव', 'एवं', 'प्रभावशाली', 'होनी', 'चाहिए।', 'शब्दों', 'के', 'सही', 'चयन', 'के', 'साथ', 'लोकोक्तियों', 'एवं', 'मुहावरों', 'के', 'समुचित', 'प्रयोग', 'से', 'ही', 'भाषा-शैली', 'में', 'उपर्युक्त', 'गुण', 'आ', 'सकते', 'हैं।']\n"
     ]
    }
   ],
   "source": [
    "words = nltk.word_tokenize(text)\n",
    "print(words)"
   ]
  },
  {
   "cell_type": "code",
   "execution_count": 20,
   "id": "1eaf0ef4",
   "metadata": {},
   "outputs": [
    {
     "name": "stdout",
     "output_type": "stream",
     "text": [
      "64\n"
     ]
    }
   ],
   "source": [
    "print(len(words))"
   ]
  },
  {
   "cell_type": "code",
   "execution_count": 21,
   "id": "32fe2872",
   "metadata": {},
   "outputs": [
    {
     "name": "stdout",
     "output_type": "stream",
     "text": [
      "[('अनुच्छेद', 'Unk'), ('में', 'PREP'), ('हर', 'QF'), ('वाक्य', 'Unk'), ('मूल', 'JJ'), ('विषय', 'NN'), ('से', 'PREP'), ('जुड़ा', 'Unk'), ('रहता', 'Unk'), ('है।', 'Unk'), ('अनावश्यक', 'Unk'), ('विस्तार', 'NN'), ('के', 'PREP'), ('लिए', 'PREP'), ('उसमें', 'Unk'), ('कोई', 'QW'), ('स्थान', 'NN'), ('नहीं', 'NEG'), ('होता।', 'Unk'), ('अनुच्छेद', 'Unk'), ('में', 'PREP'), ('घटना', 'NN'), ('अथवा', 'CC'), ('विषय', 'NN'), ('से', 'PREP'), ('सम्बद्ध', 'Unk'), ('वर्णन', 'Unk'), ('संतुलित', 'JJ'), ('तथा', 'CC'), ('अपने', 'PRP'), ('आप', 'Unk'), ('में', 'PREP'), ('पूर्ण', 'JJ'), ('होना', 'VNN'), ('चाहिए।', 'Unk'), ('अनुच्छेद', 'Unk'), ('की', 'PREP'), ('भाषा-शैली', 'Unk'), ('सजीव', 'Unk'), ('एवं', 'CC'), ('प्रभावशाली', 'JVB'), ('होनी', 'VNN'), ('चाहिए।', 'Unk'), ('शब्दों', 'Unk'), ('के', 'PREP'), ('सही', 'JJ'), ('चयन', 'Unk'), ('के', 'PREP'), ('साथ', 'PREP'), ('लोकोक्तियों', 'Unk'), ('एवं', 'CC'), ('मुहावरों', 'Unk'), ('के', 'PREP'), ('समुचित', 'Unk'), ('प्रयोग', 'NVB'), ('से', 'PREP'), ('ही', 'RP'), ('भाषा-शैली', 'Unk'), ('में', 'PREP'), ('उपर्युक्त', 'Unk'), ('गुण', 'Unk'), ('आ', 'VFM'), ('सकते', 'VAUX'), ('हैं।', 'Unk')]\n"
     ]
    }
   ],
   "source": [
    "tagged_words = (tnt_pos_tagger.tag(nltk.word_tokenize(text)))\n",
    "print(tagged_words)"
   ]
  },
  {
   "cell_type": "code",
   "execution_count": 22,
   "id": "a091c6d9",
   "metadata": {},
   "outputs": [
    {
     "name": "stderr",
     "output_type": "stream",
     "text": [
      "[nltk_data] Downloading package tagsets to\n",
      "[nltk_data]     C:\\Users\\DARSHAN\\AppData\\Roaming\\nltk_data...\n",
      "[nltk_data]   Package tagsets is already up-to-date!\n"
     ]
    },
    {
     "data": {
      "text/plain": [
       "True"
      ]
     },
     "execution_count": 22,
     "metadata": {},
     "output_type": "execute_result"
    }
   ],
   "source": [
    "nltk.download('tagsets')"
   ]
  },
  {
   "cell_type": "code",
   "execution_count": 23,
   "id": "2739a95d",
   "metadata": {},
   "outputs": [
    {
     "name": "stdout",
     "output_type": "stream",
     "text": [
      "NNP: noun, proper, singular\n",
      "    Motown Venneboerger Czestochwa Ranzer Conchita Trumplane Christos\n",
      "    Oceanside Escobar Kreisler Sawyer Cougar Yvette Ervin ODI Darryl CTCA\n",
      "    Shannon A.K.C. Meltex Liverpool ...\n"
     ]
    }
   ],
   "source": [
    "nltk.help.upenn_tagset('NNP')"
   ]
  },
  {
   "cell_type": "code",
   "execution_count": 24,
   "id": "7a24c076",
   "metadata": {},
   "outputs": [
    {
     "name": "stdout",
     "output_type": "stream",
     "text": [
      "में\n",
      "से\n",
      "के\n",
      "लिए\n",
      "में\n",
      "से\n",
      "में\n",
      "की\n",
      "के\n",
      "के\n",
      "साथ\n",
      "के\n",
      "से\n",
      "में\n"
     ]
    }
   ],
   "source": [
    "for i in range(0,len(tagged_words)):\n",
    " if(tagged_words[i][1]=='PREP'):\n",
    "     print(tagged_words[i][0])"
   ]
  },
  {
   "cell_type": "code",
   "execution_count": 25,
   "id": "01939ae5",
   "metadata": {},
   "outputs": [
    {
     "name": "stdout",
     "output_type": "stream",
     "text": [
      "प्रयोग\n"
     ]
    }
   ],
   "source": [
    "for i in range(0,len(tagged_words)):\n",
    " if(tagged_words[i][1]=='NVB'):\n",
    "     print(tagged_words[i][0])"
   ]
  },
  {
   "cell_type": "code",
   "execution_count": 26,
   "id": "25c7cf70",
   "metadata": {},
   "outputs": [
    {
     "name": "stdout",
     "output_type": "stream",
     "text": [
      "सकते\n"
     ]
    }
   ],
   "source": [
    "for i in range(0,len(tagged_words)):\n",
    " if(tagged_words[i][1]=='VAUX'):\n",
    "     print(tagged_words[i][0])"
   ]
  },
  {
   "cell_type": "code",
   "execution_count": 27,
   "id": "9e46cc7e",
   "metadata": {},
   "outputs": [
    {
     "name": "stdout",
     "output_type": "stream",
     "text": [
      "विषय\n",
      "विस्तार\n",
      "स्थान\n",
      "घटना\n",
      "विषय\n"
     ]
    }
   ],
   "source": [
    "for i in range(0,len(tagged_words)):\n",
    " if(tagged_words[i][1]=='NN'):\n",
    "     print(tagged_words[i][0])"
   ]
  },
  {
   "cell_type": "code",
   "execution_count": null,
   "id": "b73d785b",
   "metadata": {},
   "outputs": [],
   "source": []
  }
 ],
 "metadata": {
  "kernelspec": {
   "display_name": "Python 3 (ipykernel)",
   "language": "python",
   "name": "python3"
  },
  "language_info": {
   "codemirror_mode": {
    "name": "ipython",
    "version": 3
   },
   "file_extension": ".py",
   "mimetype": "text/x-python",
   "name": "python",
   "nbconvert_exporter": "python",
   "pygments_lexer": "ipython3",
   "version": "3.10.4"
  }
 },
 "nbformat": 4,
 "nbformat_minor": 5
}
